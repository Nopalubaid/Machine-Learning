{
  "nbformat": 4,
  "nbformat_minor": 0,
  "metadata": {
    "colab": {
      "provenance": []
    },
    "kernelspec": {
      "name": "python3",
      "display_name": "Python 3"
    },
    "language_info": {
      "name": "python"
    }
  },
  "cells": [
    {
      "cell_type": "code",
      "execution_count": null,
      "metadata": {
        "colab": {
          "base_uri": "https://localhost:8080/"
        },
        "id": "KAFVfdacM3Fm",
        "outputId": "6e91e3ad-edd6-48e2-b213-ce0d62b42a93"
      },
      "outputs": [
        {
          "output_type": "stream",
          "name": "stdout",
          "text": [
            "                                                  Pesan  Kategori  \\\n",
            "0     Pergi sampai jurong point, gila.. Hanya tersed...         0   \n",
            "1                    Ok lar... Bercanda denganmu oni...         0   \n",
            "2     Entri gratis dalam 2 minggu berturut-turut unt...         1   \n",
            "3     Kamu tidak bilang pagi-pagi sekali, hor... Kam...         0   \n",
            "4     Tidak, menurutku dia tidak pergi ke usf, dia t...         0   \n",
            "...                                                 ...       ...   \n",
            "6710     Yooo sama2, oke nanti aku umumin di grup kelas         0   \n",
            "6711  ð sebelumnya ga ad nulis kerudung. Kirain w...         0   \n",
            "6712                               Mba mau kirim 300 ya         0   \n",
            "6713  nama1  beaok bwrangkat pagi...mau cas atay tra...         0   \n",
            "6714                         No bri atas nama kamu mana         0   \n",
            "\n",
            "                                             text_clean  length_after_cleaning  \n",
            "0     pergi jurong point gila tersedia bugis great w...                     85  \n",
            "1                          ok lar bercanda denganmu oni                     28  \n",
            "2     entri gratis minggu berturutturut memenangkan ...                    127  \n",
            "3                            bilang pagipagi hor bilang                     26  \n",
            "4                           menurutku pergi usf tinggal                     27  \n",
            "...                                                 ...                    ...  \n",
            "6710                         yooo oke umumin grup kelas                     26  \n",
            "6711        ð ga ad nulis kerudung kirain warna jins                     40  \n",
            "6712                                       mba kirim ya                     12  \n",
            "6713       nama beaok bwrangkat pagimau ca atay tranfer                     44  \n",
            "6714                                        no bri nama                     11  \n",
            "\n",
            "[6715 rows x 4 columns]\n"
          ]
        }
      ],
      "source": [
        "import pandas as pd\n",
        "import numpy as np\n",
        "\n",
        "# Membaca file CSV dengan encoding 'latin1'\n",
        "df = pd.read_csv('cleaned_data.csv', encoding='latin1')\n",
        "\n",
        "# Menampilkan data\n",
        "print(df)"
      ]
    },
    {
      "cell_type": "code",
      "source": [
        "# Menampilkan label kolom\n",
        "print(df.columns)"
      ],
      "metadata": {
        "colab": {
          "base_uri": "https://localhost:8080/"
        },
        "id": "KU3_kxyINUca",
        "outputId": "6d11f4c3-f6a9-4243-ed2a-6b6bfffbb726"
      },
      "execution_count": null,
      "outputs": [
        {
          "output_type": "stream",
          "name": "stdout",
          "text": [
            "Index(['Pesan', 'Kategori', 'text_clean', 'length_after_cleaning'], dtype='object')\n"
          ]
        }
      ]
    },
    {
      "cell_type": "code",
      "source": [
        "# Mengisi nilai NaN dengan string kosong\n",
        "df['text_clean'].fillna('', inplace=True)"
      ],
      "metadata": {
        "id": "RKJz_li5Q5yA"
      },
      "execution_count": null,
      "outputs": []
    },
    {
      "cell_type": "code",
      "source": [
        "# Menetapkan x dan y\n",
        "x = df['text_clean']\n",
        "y = df['Kategori']"
      ],
      "metadata": {
        "id": "PB-FWn8KOkAc"
      },
      "execution_count": null,
      "outputs": []
    },
    {
      "cell_type": "code",
      "source": [
        "# Menampilkan x dan y untuk verifikasi\n",
        "print(x.head())\n",
        "print(y.head())"
      ],
      "metadata": {
        "colab": {
          "base_uri": "https://localhost:8080/"
        },
        "id": "LQSh2HS_Ont_",
        "outputId": "b2cebd53-08e1-400c-e38b-84908b7b6ca4"
      },
      "execution_count": null,
      "outputs": [
        {
          "output_type": "stream",
          "name": "stdout",
          "text": [
            "0    pergi jurong point gila tersedia bugis great w...\n",
            "1                         ok lar bercanda denganmu oni\n",
            "2    entri gratis minggu berturutturut memenangkan ...\n",
            "3                           bilang pagipagi hor bilang\n",
            "4                          menurutku pergi usf tinggal\n",
            "Name: text_clean, dtype: object\n",
            "0    0\n",
            "1    0\n",
            "2    1\n",
            "3    0\n",
            "4    0\n",
            "Name: Kategori, dtype: int64\n"
          ]
        }
      ]
    },
    {
      "cell_type": "code",
      "source": [
        "import seaborn as sns\n",
        "import matplotlib.pyplot as plt\n",
        "\n",
        "# Menghitung jumlah kategori\n",
        "category_counts = df['Kategori'].value_counts().reset_index()\n",
        "category_counts.columns = ['Kategori', 'Jumlah']\n",
        "\n",
        "# Membuat diagram batang dengan seaborn\n",
        "plt.figure(figsize=(10, 6))\n",
        "sns.barplot(x='Kategori', y='Jumlah', data=category_counts)\n",
        "plt.title('Perbandingan Antar Kategori')\n",
        "plt.xlabel('Kategori')\n",
        "plt.ylabel('Jumlah')\n",
        "plt.xticks(rotation=45)\n",
        "plt.show()"
      ],
      "metadata": {
        "colab": {
          "base_uri": "https://localhost:8080/",
          "height": 566
        },
        "id": "iAUucrKUPC2d",
        "outputId": "3d27d2cc-adc0-4ed0-df29-fd36dfd6aea2"
      },
      "execution_count": null,
      "outputs": [
        {
          "output_type": "display_data",
          "data": {
            "text/plain": [
              "<Figure size 1000x600 with 1 Axes>"
            ],
            "image/png": "[encoded data removed]"
          },
          "metadata": {}
        }
      ]
    },
    {
      "cell_type": "code",
      "source": [
        "pip install imbalanced-learn"
      ],
      "metadata": {
        "colab": {
          "base_uri": "https://localhost:8080/"
        },
        "id": "_OhV_jOHPWsR",
        "outputId": "bd940311-4b7e-45db-f2b6-9030bad48be9"
      },
      "execution_count": null,
      "outputs": [
        {
          "output_type": "stream",
          "name": "stdout",
          "text": [
            "Requirement already satisfied: imbalanced-learn in /usr/local/lib/python3.10/dist-packages (0.10.1)\n",
            "Requirement already satisfied: numpy>=1.17.3 in /usr/local/lib/python3.10/dist-packages (from imbalanced-learn) (1.25.2)\n",
            "Requirement already satisfied: scipy>=1.3.2 in /usr/local/lib/python3.10/dist-packages (from imbalanced-learn) (1.11.4)\n",
            "Requirement already satisfied: scikit-learn>=1.0.2 in /usr/local/lib/python3.10/dist-packages (from imbalanced-learn) (1.2.2)\n",
            "Requirement already satisfied: joblib>=1.1.1 in /usr/local/lib/python3.10/dist-packages (from imbalanced-learn) (1.4.2)\n",
            "Requirement already satisfied: threadpoolctl>=2.0.0 in /usr/local/lib/python3.10/dist-packages (from imbalanced-learn) (3.5.0)\n"
          ]
        }
      ]
    },
    {
      "cell_type": "code",
      "source": [
        "from imblearn.over_sampling import SMOTE\n",
        "from sklearn.model_selection import train_test_split\n",
        "\n",
        "# Melakukan pembagian data menjadi training dan testing set\n",
        "x_train, x_test, y_train, y_test = train_test_split(x, y, test_size=0.2, random_state=42)"
      ],
      "metadata": {
        "id": "ucTBoX8lP4zm"
      },
      "execution_count": null,
      "outputs": []
    },
    {
      "cell_type": "code",
      "source": [
        "# Menggunakan CountVectorizer untuk mengubah teks menjadi fitur numerik\n",
        "from sklearn.feature_extraction.text import CountVectorizer\n",
        "\n",
        "vectorizer = CountVectorizer()\n",
        "x_train_vect = vectorizer.fit_transform(x_train)\n",
        "x_test_vect = vectorizer.transform(x_test)"
      ],
      "metadata": {
        "id": "iiKGpqurQOI5"
      },
      "execution_count": null,
      "outputs": []
    },
    {
      "cell_type": "code",
      "source": [
        "# Menggunakan SMOTE untuk oversampling\n",
        "smote = SMOTE(random_state=42)\n",
        "x_train_smote, y_train_smote = smote.fit_resample(x_train_vect, y_train)"
      ],
      "metadata": {
        "id": "1repuRzYRLHQ"
      },
      "execution_count": null,
      "outputs": []
    },
    {
      "cell_type": "code",
      "source": [
        "# Menampilkan perbandingan jumlah kategori sebelum dan sesudah oversampling\n",
        "print(\"Jumlah kategori sebelum oversampling:\")\n",
        "print(y_train.value_counts())\n",
        "print(\"\\nJumlah kategori setelah oversampling:\")\n",
        "print(pd.Series(y_train_smote).value_counts())"
      ],
      "metadata": {
        "colab": {
          "base_uri": "https://localhost:8080/"
        },
        "id": "hVccjSHsRa92",
        "outputId": "42cfdb39-cfc3-4bac-f658-f50f82928fb3"
      },
      "execution_count": null,
      "outputs": [
        {
          "output_type": "stream",
          "name": "stdout",
          "text": [
            "Jumlah kategori sebelum oversampling:\n",
            "Kategori\n",
            "0    4520\n",
            "1     852\n",
            "Name: count, dtype: int64\n",
            "\n",
            "Jumlah kategori setelah oversampling:\n",
            "Kategori\n",
            "0    4520\n",
            "1    4520\n",
            "Name: count, dtype: int64\n"
          ]
        }
      ]
    },
    {
      "cell_type": "markdown",
      "source": [
        "# Modelling"
      ],
      "metadata": {
        "id": "hjr3cX5K03lm"
      }
    },
    {
      "cell_type": "code",
      "source": [
        "import seaborn as sns\n",
        "import matplotlib.pyplot as plt\n",
        "\n",
        "# Fungsi untuk mengevaluasi model\n",
        "def evaluate_model(model, x_test, y_test):\n",
        "    y_pred = model.predict(x_test)\n",
        "    accuracy = accuracy_score(y_test, y_pred)\n",
        "    precision = precision_score(y_test, y_pred, average='weighted')\n",
        "    recall = recall_score(y_test, y_pred, average='weighted')\n",
        "    f1 = f1_score(y_test, y_pred, average='weighted')\n",
        "    return accuracy, precision, recall, f1\n",
        "\n",
        "# Dictionary untuk menyimpan hasil evaluasi\n",
        "results = {}"
      ],
      "metadata": {
        "id": "uId_A6p7wDj5"
      },
      "execution_count": null,
      "outputs": []
    },
    {
      "cell_type": "markdown",
      "source": [
        "#Naive Bayes"
      ],
      "metadata": {
        "id": "N3eUYsXKtDDy"
      }
    },
    {
      "cell_type": "code",
      "source": [
        "from sklearn.naive_bayes import MultinomialNB\n",
        "from sklearn.metrics import classification_report\n",
        "from sklearn.metrics import accuracy_score, precision_score, recall_score, f1_score, classification_report\n",
        "\n",
        "# Naive Bayes\n",
        "nb = MultinomialNB()\n",
        "nb.fit(x_train_smote, y_train_smote)\n",
        "acc_nb, _, _, _ = evaluate_model(nb, x_test_vect, y_test)\n",
        "results['Naive Bayes'] = acc_nb\n",
        "print(\"Naive Bayes Classification Report:\")\n",
        "print(classification_report(y_test, nb.predict(x_test_vect)))"
      ],
      "metadata": {
        "colab": {
          "base_uri": "https://localhost:8080/"
        },
        "id": "ukRPisb_RfIh",
        "outputId": "dd4d2365-34f3-4eed-cbd8-ee1777f6a5ed"
      },
      "execution_count": null,
      "outputs": [
        {
          "output_type": "stream",
          "name": "stdout",
          "text": [
            "Naive Bayes Classification Report:\n",
            "              precision    recall  f1-score   support\n",
            "\n",
            "           0       0.98      0.96      0.97      1113\n",
            "           1       0.82      0.90      0.86       230\n",
            "\n",
            "    accuracy                           0.95      1343\n",
            "   macro avg       0.90      0.93      0.92      1343\n",
            "weighted avg       0.95      0.95      0.95      1343\n",
            "\n"
          ]
        }
      ]
    },
    {
      "cell_type": "markdown",
      "source": [
        "# SVM"
      ],
      "metadata": {
        "id": "XUNS_QTvtVpi"
      }
    },
    {
      "cell_type": "code",
      "source": [
        "from sklearn.svm import SVC\n",
        "\n",
        "svm = SVC()\n",
        "svm.fit(x_train_smote, y_train_smote)\n",
        "acc_svm, _, _, _ = evaluate_model(svm, x_test_vect, y_test)\n",
        "results['SVM'] = acc_svm\n",
        "print(\"SVM Classification Report:\")\n",
        "print(classification_report(y_test, svm.predict(x_test_vect)))"
      ],
      "metadata": {
        "colab": {
          "base_uri": "https://localhost:8080/"
        },
        "id": "0r0jmOSAsl6H",
        "outputId": "9da6f560-33e6-4227-cb4c-878344b9a230"
      },
      "execution_count": null,
      "outputs": [
        {
          "output_type": "stream",
          "name": "stdout",
          "text": [
            "SVM Classification Report:\n",
            "              precision    recall  f1-score   support\n",
            "\n",
            "           0       0.94      0.87      0.90      1113\n",
            "           1       0.53      0.73      0.62       230\n",
            "\n",
            "    accuracy                           0.84      1343\n",
            "   macro avg       0.74      0.80      0.76      1343\n",
            "weighted avg       0.87      0.84      0.85      1343\n",
            "\n"
          ]
        }
      ]
    },
    {
      "cell_type": "markdown",
      "source": [
        "# RandomForest"
      ],
      "metadata": {
        "id": "e4Y3Dhc3tZN_"
      }
    },
    {
      "cell_type": "code",
      "source": [
        "from sklearn.ensemble import RandomForestClassifier\n",
        "\n",
        "# Random Forest\n",
        "rf = RandomForestClassifier()\n",
        "rf.fit(x_train_smote, y_train_smote)\n",
        "acc_rf, _, _, _ = evaluate_model(rf, x_test_vect, y_test)\n",
        "results['Random Forest'] = acc_rf\n",
        "print(\"Random Forest Classification Report:\")\n",
        "print(classification_report(y_test, rf.predict(x_test_vect)))"
      ],
      "metadata": {
        "colab": {
          "base_uri": "https://localhost:8080/"
        },
        "id": "kUegAyPxtT1n",
        "outputId": "5bc64fc5-1a2f-4b16-b076-60c191d45732"
      },
      "execution_count": null,
      "outputs": [
        {
          "output_type": "stream",
          "name": "stdout",
          "text": [
            "Random Forest Classification Report:\n",
            "              precision    recall  f1-score   support\n",
            "\n",
            "           0       0.98      0.85      0.91      1113\n",
            "           1       0.56      0.93      0.70       230\n",
            "\n",
            "    accuracy                           0.86      1343\n",
            "   macro avg       0.77      0.89      0.81      1343\n",
            "weighted avg       0.91      0.86      0.88      1343\n",
            "\n"
          ]
        }
      ]
    },
    {
      "cell_type": "markdown",
      "source": [
        "# CNN"
      ],
      "metadata": {
        "id": "bfaYhYT8tlrk"
      }
    },
    {
      "cell_type": "code",
      "source": [
        "from keras.models import Sequential\n",
        "from keras.layers import Dense, Conv1D, GlobalMaxPooling1D, Embedding\n",
        "from keras.preprocessing.text import Tokenizer\n",
        "from keras.preprocessing.sequence import pad_sequences\n",
        "\n",
        "# Menggunakan Tokenizer untuk mempersiapkan data untuk CNN\n",
        "tokenizer = Tokenizer(num_words=5000)\n",
        "tokenizer.fit_on_texts(x_train)\n",
        "x_train_seq = tokenizer.texts_to_sequences(x_train)\n",
        "x_test_seq = tokenizer.texts_to_sequences(x_test)"
      ],
      "metadata": {
        "id": "nt9W0K3gtnIE"
      },
      "execution_count": null,
      "outputs": []
    },
    {
      "cell_type": "code",
      "source": [
        "# Padding sequences agar memiliki panjang yang sama\n",
        "maxlen = 100\n",
        "x_train_pad = pad_sequences(x_train_seq, padding='post', maxlen=maxlen)\n",
        "x_test_pad = pad_sequences(x_test_seq, padding='post', maxlen=maxlen)"
      ],
      "metadata": {
        "id": "I45Oy828txN4"
      },
      "execution_count": null,
      "outputs": []
    },
    {
      "cell_type": "code",
      "source": [
        "# Oversampling data yang sudah diproses untuk CNN\n",
        "x_train_pad_smote, y_train_smote = smote.fit_resample(x_train_pad, y_train)\n",
        "\n",
        "# Membangun model CNN\n",
        "model = Sequential()\n",
        "model.add(Embedding(input_dim=5000, output_dim=128, input_length=maxlen))\n",
        "model.add(Conv1D(filters=128, kernel_size=5, activation='relu'))\n",
        "model.add(GlobalMaxPooling1D())\n",
        "model.add(Dense(units=10, activation='relu'))\n",
        "model.add(Dense(units=1, activation='sigmoid'))\n",
        "model.compile(optimizer='adam', loss='binary_crossentropy', metrics=['accuracy'])\n",
        "\n",
        "# Melatih model CNN\n",
        "model.fit(x_train_pad_smote, y_train_smote, epochs=5, batch_size=32, validation_split=0.2)"
      ],
      "metadata": {
        "colab": {
          "base_uri": "https://localhost:8080/"
        },
        "id": "n-Gu662dt7pi",
        "outputId": "f0c69fa1-3ce2-46a0-b52f-0f9ca90a81ed"
      },
      "execution_count": null,
      "outputs": [
        {
          "output_type": "stream",
          "name": "stdout",
          "text": [
            "Epoch 1/5\n",
            "226/226 [==============================] - 25s 97ms/step - loss: 0.3094 - accuracy: 0.8711 - val_loss: 0.3392 - val_accuracy: 0.8689\n",
            "Epoch 2/5\n",
            "226/226 [==============================] - 13s 58ms/step - loss: 0.1120 - accuracy: 0.9646 - val_loss: 0.3433 - val_accuracy: 0.8673\n",
            "Epoch 3/5\n",
            "226/226 [==============================] - 12s 55ms/step - loss: 0.0499 - accuracy: 0.9870 - val_loss: 0.5456 - val_accuracy: 0.8308\n",
            "Epoch 4/5\n",
            "226/226 [==============================] - 13s 57ms/step - loss: 0.0221 - accuracy: 0.9947 - val_loss: 0.4074 - val_accuracy: 0.8767\n",
            "Epoch 5/5\n",
            "226/226 [==============================] - 13s 56ms/step - loss: 0.0095 - accuracy: 0.9982 - val_loss: 0.5039 - val_accuracy: 0.8678\n"
          ]
        },
        {
          "output_type": "execute_result",
          "data": {
            "text/plain": [
              "<keras.src.callbacks.History at 0x7ab899a23e50>"
            ]
          },
          "metadata": {},
          "execution_count": 19
        }
      ]
    },
    {
      "cell_type": "code",
      "source": [
        "# Mengevaluasi model CNN\n",
        "y_pred_cnn = (model.predict(x_test_pad) > 0.5).astype(\"int32\")\n",
        "acc_cnn = accuracy_score(y_test, y_pred_cnn)\n",
        "results['CNN'] = acc_cnn\n",
        "print(\"CNN Classification Report:\")\n",
        "print(classification_report(y_test, y_pred_cnn))"
      ],
      "metadata": {
        "colab": {
          "base_uri": "https://localhost:8080/"
        },
        "id": "5t7HZAAmuMGk",
        "outputId": "26e0b63f-9869-4e53-9c30-4e6a0403e571"
      },
      "execution_count": null,
      "outputs": [
        {
          "output_type": "stream",
          "name": "stdout",
          "text": [
            "42/42 [==============================] - 1s 12ms/step\n",
            "CNN Classification Report:\n",
            "              precision    recall  f1-score   support\n",
            "\n",
            "           0       0.99      0.96      0.97      1113\n",
            "           1       0.82      0.94      0.87       230\n",
            "\n",
            "    accuracy                           0.95      1343\n",
            "   macro avg       0.90      0.95      0.92      1343\n",
            "weighted avg       0.96      0.95      0.96      1343\n",
            "\n"
          ]
        }
      ]
    },
    {
      "cell_type": "markdown",
      "source": [
        "# Hasil Perbandingan Model"
      ],
      "metadata": {
        "id": "odZu_7Bq5N4x"
      }
    },
    {
      "cell_type": "code",
      "source": [
        "# Nama model\n",
        "models = ['Naive Bayes', 'SVM', 'Random Forest', 'CNN']\n",
        "\n",
        "# Akurasi model\n",
        "accuracies = [results['Naive Bayes'], results['SVM'], results['Random Forest'], results['CNN']]\n",
        "\n",
        "# Membuat bar chart\n",
        "fig, ax = plt.subplots()\n",
        "bars = ax.bar(models, accuracies, color=['blue', 'green', 'red', 'purple'])\n",
        "\n",
        "# Menambahkan label persentase di atas bar chart\n",
        "for bar, acc in zip(bars, accuracies):\n",
        "    height = bar.get_height()\n",
        "    ax.text(bar.get_x() + bar.get_width() / 2, height, f'{acc:.2%}', ha='center', va='bottom')\n",
        "\n",
        "plt.ylabel('Accuracy')\n",
        "plt.title('Model Comparison - Accuracy')\n",
        "plt.ylim(0, 1)\n",
        "plt.xticks(rotation=45)\n",
        "plt.show()"
      ],
      "metadata": {
        "colab": {
          "base_uri": "https://localhost:8080/",
          "height": 522
        },
        "id": "A_BBkLOFupT6",
        "outputId": "26171423-31c9-48dc-dfeb-66390ff67bb8"
      },
      "execution_count": null,
      "outputs": [
        {
          "output_type": "display_data",
          "data": {
            "text/plain": [
              "<Figure size 640x480 with 1 Axes>"
            ],
            "image/png": "[encoded data removed]"
          },
          "metadata": {}
        }
      ]
    },
    {
      "cell_type": "code",
      "source": [
        "# Menyimpan model\n",
        "model.save('spam_detection_cnn_model.h5')"
      ],
      "metadata": {
        "id": "mjata0Fsuxfp"
      },
      "execution_count": null,
      "outputs": []
    },
    {
      "cell_type": "code",
      "source": [
        "import pickle\n",
        "\n",
        "# Menyimpan tokenizer\n",
        "with open('tokenizer.pickle', 'wb') as handle:\n",
        "    pickle.dump(tokenizer, handle, protocol=pickle.HIGHEST_PROTOCOL)"
      ],
      "metadata": {
        "id": "gnteT4oyvHGh"
      },
      "execution_count": null,
      "outputs": []
    },
    {
      "cell_type": "code",
      "source": [
        "# Contoh penggunaan model yang telah disimpan\n",
        "# Memuat kembali model dan tokenizer\n",
        "from keras.models import load_model\n",
        "\n",
        "# Memuat model\n",
        "loaded_model = load_model('spam_detection_cnn_model.h5')\n",
        "\n",
        "# Memuat tokenizer\n",
        "with open('tokenizer.pickle', 'rb') as handle:\n",
        "    loaded_tokenizer = pickle.load(handle)\n",
        "\n",
        "# Contoh prediksi\n",
        "new_texts = [\"Tolong belikan dulu mama pulsa 25rb di no AS baru mama 085245318024 soalnya teman mama kecelakaan\"]\n",
        "new_texts_seq = loaded_tokenizer.texts_to_sequences(new_texts)\n",
        "new_texts_pad = pad_sequences(new_texts_seq, padding='post', maxlen=maxlen)\n",
        "predictions = (loaded_model.predict(new_texts_pad) > 0.5).astype(\"int32\")\n",
        "print(\"Prediksi:\", predictions)"
      ],
      "metadata": {
        "colab": {
          "base_uri": "https://localhost:8080/"
        },
        "id": "5h_z3TvuvOW-",
        "outputId": "d2b2cab2-01b7-4814-bee8-1f2a0e8604aa"
      },
      "execution_count": null,
      "outputs": [
        {
          "output_type": "stream",
          "name": "stdout",
          "text": [
            "1/1 [==============================] - 0s 133ms/step\n",
            "Prediksi: [[1]]\n"
          ]
        }
      ]
    }
  ]
}